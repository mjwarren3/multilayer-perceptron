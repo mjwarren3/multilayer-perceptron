{
  "nbformat": 4,
  "nbformat_minor": 0,
  "metadata": {
    "colab": {
      "provenance": []
    },
    "kernelspec": {
      "name": "python3",
      "display_name": "Python 3"
    },
    "language_info": {
      "name": "python"
    }
  },
  "cells": [
    {
      "cell_type": "markdown",
      "source": [
        "**Preparing the data**\n"
      ],
      "metadata": {
        "id": "vUZyG70A7ugr"
      }
    },
    {
      "cell_type": "code",
      "execution_count": 1,
      "metadata": {
        "id": "j7iPWGZF7nx-"
      },
      "outputs": [],
      "source": [
        "import numpy as np\n",
        "from tensorflow.keras import datasets, utils"
      ]
    },
    {
      "cell_type": "code",
      "source": [
        "(x_train, y_train), (x_test, y_test) = datasets.cifar10.load_data()"
      ],
      "metadata": {
        "id": "6O4xVxlJ79Qn"
      },
      "execution_count": 8,
      "outputs": []
    },
    {
      "cell_type": "code",
      "source": [
        "# Visualizing the data for one row of one image - it is essentially a set of pixels on the RGB color scheme\n",
        "\n",
        "# Note that the format of the data is [50000, 32, 32, 3] meaning there are 50,000 images each in a 32x32 matrix with 3 values (RGB)\n",
        "# This is a 4 dimensional tensor\n",
        "x_train[0][0]"
      ],
      "metadata": {
        "colab": {
          "base_uri": "https://localhost:8080/"
        },
        "id": "IRTLr2bE8koT",
        "outputId": "7847060d-ae2a-492a-c436-c075bdbe5945"
      },
      "execution_count": 9,
      "outputs": [
        {
          "output_type": "execute_result",
          "data": {
            "text/plain": [
              "array([[ 59,  62,  63],\n",
              "       [ 43,  46,  45],\n",
              "       [ 50,  48,  43],\n",
              "       [ 68,  54,  42],\n",
              "       [ 98,  73,  52],\n",
              "       [119,  91,  63],\n",
              "       [139, 107,  75],\n",
              "       [145, 110,  80],\n",
              "       [149, 117,  89],\n",
              "       [149, 120,  93],\n",
              "       [131, 103,  77],\n",
              "       [125,  99,  76],\n",
              "       [142, 115,  91],\n",
              "       [144, 112,  86],\n",
              "       [137, 105,  79],\n",
              "       [129,  97,  71],\n",
              "       [137, 106,  79],\n",
              "       [134, 106,  76],\n",
              "       [124,  97,  64],\n",
              "       [139, 113,  78],\n",
              "       [139, 112,  75],\n",
              "       [133, 105,  69],\n",
              "       [136, 105,  74],\n",
              "       [139, 108,  77],\n",
              "       [152, 120,  89],\n",
              "       [163, 131, 100],\n",
              "       [168, 136, 108],\n",
              "       [159, 129, 102],\n",
              "       [158, 130, 104],\n",
              "       [158, 132, 108],\n",
              "       [152, 125, 102],\n",
              "       [148, 124, 103]], dtype=uint8)"
            ]
          },
          "metadata": {},
          "execution_count": 9
        }
      ]
    },
    {
      "cell_type": "code",
      "source": [
        "# Scale each image, so that it lies between 0 and 1 (currently up to 255 for the RGB color scheme)\n",
        "x_train = x_train.astype('float32') / 255.0\n",
        "x_test = x_test.astype('float32') / 255.0\n",
        "\n",
        "# Visualizing the scaled data\n",
        "x_train[0][0]"
      ],
      "metadata": {
        "colab": {
          "base_uri": "https://localhost:8080/"
        },
        "id": "fPZdXhGI8Glv",
        "outputId": "55081c68-6557-4fb1-d4d4-e462424ddb76"
      },
      "execution_count": 10,
      "outputs": [
        {
          "output_type": "execute_result",
          "data": {
            "text/plain": [
              "array([[0.23137255, 0.24313726, 0.24705882],\n",
              "       [0.16862746, 0.18039216, 0.1764706 ],\n",
              "       [0.19607843, 0.1882353 , 0.16862746],\n",
              "       [0.26666668, 0.21176471, 0.16470589],\n",
              "       [0.38431373, 0.28627452, 0.20392157],\n",
              "       [0.46666667, 0.35686275, 0.24705882],\n",
              "       [0.54509807, 0.41960785, 0.29411766],\n",
              "       [0.5686275 , 0.43137255, 0.3137255 ],\n",
              "       [0.58431375, 0.45882353, 0.34901962],\n",
              "       [0.58431375, 0.47058824, 0.3647059 ],\n",
              "       [0.5137255 , 0.40392157, 0.3019608 ],\n",
              "       [0.49019608, 0.3882353 , 0.29803923],\n",
              "       [0.5568628 , 0.4509804 , 0.35686275],\n",
              "       [0.5647059 , 0.4392157 , 0.3372549 ],\n",
              "       [0.5372549 , 0.4117647 , 0.30980393],\n",
              "       [0.5058824 , 0.38039216, 0.2784314 ],\n",
              "       [0.5372549 , 0.41568628, 0.30980393],\n",
              "       [0.5254902 , 0.41568628, 0.29803923],\n",
              "       [0.4862745 , 0.38039216, 0.2509804 ],\n",
              "       [0.54509807, 0.44313726, 0.30588236],\n",
              "       [0.54509807, 0.4392157 , 0.29411766],\n",
              "       [0.52156866, 0.4117647 , 0.27058825],\n",
              "       [0.53333336, 0.4117647 , 0.2901961 ],\n",
              "       [0.54509807, 0.42352942, 0.3019608 ],\n",
              "       [0.59607846, 0.47058824, 0.34901962],\n",
              "       [0.6392157 , 0.5137255 , 0.39215687],\n",
              "       [0.65882355, 0.53333336, 0.42352942],\n",
              "       [0.62352943, 0.5058824 , 0.4       ],\n",
              "       [0.61960787, 0.50980395, 0.40784314],\n",
              "       [0.61960787, 0.5176471 , 0.42352942],\n",
              "       [0.59607846, 0.49019608, 0.4       ],\n",
              "       [0.5803922 , 0.4862745 , 0.40392157]], dtype=float32)"
            ]
          },
          "metadata": {},
          "execution_count": 10
        }
      ]
    },
    {
      "cell_type": "code",
      "source": [
        "# Y data includes the \"correct categories\", known as the \"labels\"\n",
        "y_test"
      ],
      "metadata": {
        "colab": {
          "base_uri": "https://localhost:8080/"
        },
        "id": "DnzP40Z485Wr",
        "outputId": "22419c04-a07d-480d-80bd-47752835064f"
      },
      "execution_count": 13,
      "outputs": [
        {
          "output_type": "execute_result",
          "data": {
            "text/plain": [
              "array([[3],\n",
              "       [8],\n",
              "       [8],\n",
              "       ...,\n",
              "       [5],\n",
              "       [1],\n",
              "       [7]], dtype=uint8)"
            ]
          },
          "metadata": {},
          "execution_count": 13
        }
      ]
    },
    {
      "cell_type": "code",
      "source": [
        "# Here we one-hot-encode the labels (which means creating an 10-element array, and putting a 1 based on the digit)\n",
        "# For example, the second row is in the 8th position (from 0 to 9)\n",
        "\n",
        "NUM_CLASSES = 10\n",
        "y_train = utils.to_categorical(y_train, NUM_CLASSES)\n",
        "y_test = utils.to_categorical(y_test, NUM_CLASSES)\n",
        "\n",
        "y_test"
      ],
      "metadata": {
        "colab": {
          "base_uri": "https://localhost:8080/"
        },
        "id": "MbU1tN9t8af3",
        "outputId": "a621774f-d847-4fa8-9bd6-bd5b761625e1"
      },
      "execution_count": 14,
      "outputs": [
        {
          "output_type": "execute_result",
          "data": {
            "text/plain": [
              "array([[0., 0., 0., ..., 0., 0., 0.],\n",
              "       [0., 0., 0., ..., 0., 1., 0.],\n",
              "       [0., 0., 0., ..., 0., 1., 0.],\n",
              "       ...,\n",
              "       [0., 0., 0., ..., 0., 0., 0.],\n",
              "       [0., 1., 0., ..., 0., 0., 0.],\n",
              "       [0., 0., 0., ..., 1., 0., 0.]], dtype=float32)"
            ]
          },
          "metadata": {},
          "execution_count": 14
        }
      ]
    },
    {
      "cell_type": "code",
      "source": [
        "x_train.shape"
      ],
      "metadata": {
        "colab": {
          "base_uri": "https://localhost:8080/"
        },
        "id": "OmFdQKuH8iR8",
        "outputId": "2574e57b-286c-4e74-a646-1037fb0e2a12"
      },
      "execution_count": 19,
      "outputs": [
        {
          "output_type": "execute_result",
          "data": {
            "text/plain": [
              "(50000, 32, 32, 3)"
            ]
          },
          "metadata": {},
          "execution_count": 19
        }
      ]
    },
    {
      "cell_type": "code",
      "source": [],
      "metadata": {
        "id": "97HtyKUx9y2Z"
      },
      "execution_count": null,
      "outputs": []
    },
    {
      "cell_type": "markdown",
      "source": [
        "## Building the model"
      ],
      "metadata": {
        "id": "jA2ZudHF94CH"
      }
    },
    {
      "cell_type": "code",
      "source": [
        "from tensorflow.keras import layers, models\n",
        "\n",
        "# A sequential model is useful for defining a linear stack of layers (where one layer goes directly into the next layer)\n",
        "# We'll build a sequential model for this example - here we are just defining the model, not fitting it to any data\n",
        "model = models.Sequential([\n",
        "    layers.Flatten(input_shape=(32, 32, 3)),\n",
        "    layers.Dense(200, activation='relu'),\n",
        "    layers.Dense(150, activation='relu'),\n",
        "    layers.Dense(10, activation='softmax')\n",
        "])"
      ],
      "metadata": {
        "id": "JCVuvjJs95sO"
      },
      "execution_count": 21,
      "outputs": []
    },
    {
      "cell_type": "code",
      "source": [
        "model.summary()"
      ],
      "metadata": {
        "colab": {
          "base_uri": "https://localhost:8080/"
        },
        "id": "OVuTi6H_FUP3",
        "outputId": "13dc4775-884d-4df4-960c-a5359cf8fee1"
      },
      "execution_count": 38,
      "outputs": [
        {
          "output_type": "stream",
          "name": "stdout",
          "text": [
            "Model: \"sequential\"\n",
            "_________________________________________________________________\n",
            " Layer (type)                Output Shape              Param #   \n",
            "=================================================================\n",
            " flatten (Flatten)           (None, 3072)              0         \n",
            "                                                                 \n",
            " dense (Dense)               (None, 200)               614600    \n",
            "                                                                 \n",
            " dense_1 (Dense)             (None, 150)               30150     \n",
            "                                                                 \n",
            " dense_2 (Dense)             (None, 10)                1510      \n",
            "                                                                 \n",
            "=================================================================\n",
            "Total params: 646260 (2.47 MB)\n",
            "Trainable params: 646260 (2.47 MB)\n",
            "Non-trainable params: 0 (0.00 Byte)\n",
            "_________________________________________________________________\n"
          ]
        }
      ]
    },
    {
      "cell_type": "code",
      "source": [
        "# This is another way to structure the model definition using the functional API\n",
        "input_layer = layers.Input(shape=(32, 32, 3))\n",
        "x = layers.Flatten()(input_layer)\n",
        "x = layers.Dense(units=200, activation='relu')(x)\n",
        "x = layers.Dense(units=150, activation='relu')(x)\n",
        "output_layer = layers.Dense(units=10, activation='softmax')(x)\n",
        "model_second = models.Model(input_layer, output_layer)"
      ],
      "metadata": {
        "id": "FDOOur7b-Shn"
      },
      "execution_count": 22,
      "outputs": []
    },
    {
      "cell_type": "code",
      "source": [
        "from tensorflow.keras import optimizers\n",
        "\n",
        "opt = optimizers.Adam(learning_rate=0.0005)\n",
        "model.compile(loss='categorical_crossentropy', optimizer = opt, metrics=['accuracy'])"
      ],
      "metadata": {
        "id": "amjUFUVo-1D_"
      },
      "execution_count": 23,
      "outputs": []
    },
    {
      "cell_type": "code",
      "source": [
        "model.fit(x_train,\n",
        "          y_train,\n",
        "          batch_size = 32,\n",
        "          epochs = 10,\n",
        "          shuffle = True)"
      ],
      "metadata": {
        "colab": {
          "base_uri": "https://localhost:8080/"
        },
        "id": "iXiJ7ZFr_Ffm",
        "outputId": "624422d3-9c7d-4738-93a1-58da64621606"
      },
      "execution_count": 24,
      "outputs": [
        {
          "output_type": "stream",
          "name": "stdout",
          "text": [
            "Epoch 1/10\n",
            "1563/1563 [==============================] - 18s 11ms/step - loss: 1.8503 - accuracy: 0.3340\n",
            "Epoch 2/10\n",
            "1563/1563 [==============================] - 17s 11ms/step - loss: 1.6668 - accuracy: 0.4035\n",
            "Epoch 3/10\n",
            "1563/1563 [==============================] - 16s 10ms/step - loss: 1.5898 - accuracy: 0.4312\n",
            "Epoch 4/10\n",
            "1563/1563 [==============================] - 22s 14ms/step - loss: 1.5348 - accuracy: 0.4524\n",
            "Epoch 5/10\n",
            "1563/1563 [==============================] - 19s 12ms/step - loss: 1.4979 - accuracy: 0.4642\n",
            "Epoch 6/10\n",
            "1563/1563 [==============================] - 22s 14ms/step - loss: 1.4686 - accuracy: 0.4791\n",
            "Epoch 7/10\n",
            "1563/1563 [==============================] - 21s 13ms/step - loss: 1.4373 - accuracy: 0.4854\n",
            "Epoch 8/10\n",
            "1563/1563 [==============================] - 24s 15ms/step - loss: 1.4116 - accuracy: 0.4962\n",
            "Epoch 9/10\n",
            "1563/1563 [==============================] - 22s 14ms/step - loss: 1.3930 - accuracy: 0.5040\n",
            "Epoch 10/10\n",
            "1563/1563 [==============================] - 23s 15ms/step - loss: 1.3714 - accuracy: 0.5131\n"
          ]
        },
        {
          "output_type": "execute_result",
          "data": {
            "text/plain": [
              "<keras.src.callbacks.History at 0x7b646f2677f0>"
            ]
          },
          "metadata": {},
          "execution_count": 24
        }
      ]
    },
    {
      "cell_type": "code",
      "source": [
        "model.evaluate(x_test, y_test)"
      ],
      "metadata": {
        "colab": {
          "base_uri": "https://localhost:8080/"
        },
        "id": "garr8bUb_NdD",
        "outputId": "57290d08-b14e-47e5-9982-fa6eb4821fc8"
      },
      "execution_count": 25,
      "outputs": [
        {
          "output_type": "stream",
          "name": "stdout",
          "text": [
            "313/313 [==============================] - 2s 5ms/step - loss: 1.4309 - accuracy: 0.4944\n"
          ]
        },
        {
          "output_type": "execute_result",
          "data": {
            "text/plain": [
              "[1.4309005737304688, 0.4943999946117401]"
            ]
          },
          "metadata": {},
          "execution_count": 25
        }
      ]
    },
    {
      "cell_type": "code",
      "source": [
        "CLASSES = np.array(['airplane', 'automobile', 'bird', 'cat', 'deer', 'dog', 'frog', 'horse', 'ship', 'truck'])\n",
        "\n",
        "preds = model.predict(x_test)\n",
        "preds_single = CLASSES[np.argmax(preds, axis = -1)]\n",
        "actual_single = CLASSES[np.argmax(y_test, axis = -1)]"
      ],
      "metadata": {
        "colab": {
          "base_uri": "https://localhost:8080/"
        },
        "id": "C15v5f-m_ZVT",
        "outputId": "3a703d83-abe3-47bf-bc7d-6d0bf306a19c"
      },
      "execution_count": 26,
      "outputs": [
        {
          "output_type": "stream",
          "name": "stdout",
          "text": [
            "313/313 [==============================] - 1s 3ms/step\n"
          ]
        }
      ]
    },
    {
      "cell_type": "code",
      "source": [
        "import matplotlib.pyplot as plt\n",
        "n_to_show = 10\n",
        "indices = np.random.choice(range(len(x_test)), n_to_show)\n",
        "\n",
        "fig = plt.figure(figsize=(15, 3))\n",
        "fig.subplots_adjust(hspace=0.4, wspace=0.4)"
      ],
      "metadata": {
        "colab": {
          "base_uri": "https://localhost:8080/",
          "height": 35
        },
        "id": "RBae-QEL_Zik",
        "outputId": "13a0aeec-67f4-410b-cc05-e738ebe0f467"
      },
      "execution_count": 34,
      "outputs": [
        {
          "output_type": "display_data",
          "data": {
            "text/plain": [
              "<Figure size 1500x300 with 0 Axes>"
            ]
          },
          "metadata": {}
        }
      ]
    },
    {
      "cell_type": "code",
      "source": [
        "for i, idx in enumerate(indices):\n",
        "    img = x_test[idx]\n",
        "    ax = fig.add_subplot(1, n_to_show, i+1)\n",
        "    ax.axis('off')\n",
        "    ax.text(0.5, -0.35, 'pred = ' + str(preds_single[idx]), fontsize=10, ha='center', transform=ax.transAxes)\n",
        "    ax.text(0.5, -0.7, 'actual = ' + str(actual_single[idx]), fontsize=10, ha='center', transform=ax.transAxes)\n",
        "    ax.imshow(img)\n",
        "\n",
        "plt.tight_layout()\n",
        "plt.savefig(\"output_image.png\", dpi=300)\n",
        "plt.close()"
      ],
      "metadata": {
        "id": "o6PdvOz2_24O"
      },
      "execution_count": 36,
      "outputs": []
    },
    {
      "cell_type": "code",
      "source": [
        "plt.show()"
      ],
      "metadata": {
        "id": "b-ujZVROAWSO"
      },
      "execution_count": 32,
      "outputs": []
    }
  ]
}